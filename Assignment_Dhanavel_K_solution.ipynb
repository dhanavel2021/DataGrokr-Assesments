{
  "cells": [
    {
      "cell_type": "code",
      "execution_count": 61,
      "metadata": {
        "colab": {
          "base_uri": "https://localhost:8080/"
        },
        "id": "s6rFjqRqoEMf",
        "outputId": "07518ea4-ead9-485f-90bd-a4b08e28b7c0"
      },
      "outputs": [
        {
          "output_type": "stream",
          "name": "stdout",
          "text": [
            "\r0% [Working]\r            \rHit:1 https://cloud.r-project.org/bin/linux/ubuntu bionic-cran40/ InRelease\n",
            "\r0% [Connecting to archive.ubuntu.com] [Connecting to security.ubuntu.com (185.1\r0% [1 InRelease gpgv 3,626 B] [Connecting to archive.ubuntu.com] [Connecting to\r                                                                               \rHit:2 http://ppa.launchpad.net/c2d4u.team/c2d4u4.0+/ubuntu bionic InRelease\n",
            "\r0% [1 InRelease gpgv 3,626 B] [Connecting to archive.ubuntu.com (185.125.190.39\r                                                                               \rHit:3 http://security.ubuntu.com/ubuntu bionic-security InRelease\n",
            "\r0% [1 InRelease gpgv 3,626 B] [Connecting to archive.ubuntu.com (185.125.190.39\r0% [Waiting for headers] [Waiting for headers] [Connecting to ppa.launchpad.net\r0% [2 InRelease gpgv 15.9 kB] [Waiting for headers] [Waiting for headers] [Conn\r                                                                               \rIgn:4 https://developer.download.nvidia.com/compute/machine-learning/repos/ubuntu1804/x86_64  InRelease\n",
            "\r0% [2 InRelease gpgv 15.9 kB] [Waiting for headers] [Waiting for headers] [Conn\r                                                                               \rHit:5 https://developer.download.nvidia.com/compute/cuda/repos/ubuntu1804/x86_64  InRelease\n",
            "\r0% [2 InRelease gpgv 15.9 kB] [Waiting for headers] [Connecting to ppa.launchpa\r                                                                               \rHit:6 http://archive.ubuntu.com/ubuntu bionic InRelease\n",
            "Hit:7 https://developer.download.nvidia.com/compute/machine-learning/repos/ubuntu1804/x86_64  Release\n",
            "Hit:8 http://ppa.launchpad.net/cran/libgit2/ubuntu bionic InRelease\n",
            "Hit:9 http://archive.ubuntu.com/ubuntu bionic-updates InRelease\n",
            "Hit:10 http://archive.ubuntu.com/ubuntu bionic-backports InRelease\n",
            "Hit:11 http://ppa.launchpad.net/deadsnakes/ppa/ubuntu bionic InRelease\n",
            "Hit:12 http://ppa.launchpad.net/graphics-drivers/ppa/ubuntu bionic InRelease\n",
            "Reading package lists... Done\n"
          ]
        }
      ],
      "source": [
        "!apt-get update -y"
      ]
    },
    {
      "cell_type": "code",
      "execution_count": 62,
      "metadata": {
        "id": "MYUqoYQZoYNa"
      },
      "outputs": [],
      "source": [
        "!apt-get install openjdk-8-jdk-headless -qq > /dev/null"
      ]
    },
    {
      "cell_type": "code",
      "execution_count": 63,
      "metadata": {
        "id": "z0hHtEnJodKE"
      },
      "outputs": [],
      "source": [
        "!wget -q https://archive.apache.org/dist/spark/spark-3.1.2/spark-3.1.2-bin-hadoop2.7.tgz"
      ]
    },
    {
      "cell_type": "code",
      "execution_count": 64,
      "metadata": {
        "id": "5nAAybMaofNk"
      },
      "outputs": [],
      "source": [
        "!tar xf spark-3.1.2-bin-hadoop2.7.tgz"
      ]
    },
    {
      "cell_type": "code",
      "execution_count": 65,
      "metadata": {
        "id": "nD-FTWUrohOf"
      },
      "outputs": [],
      "source": [
        "import os\n",
        "os.environ[\"JAVA_HOME\"] = \"/usr/lib/jvm/java-8-openjdk-amd64\"\n",
        "os.environ[\"SPARK_HOME\"] = \"/content/spark-3.1.2-bin-hadoop2.7\""
      ]
    },
    {
      "cell_type": "code",
      "execution_count": 66,
      "metadata": {
        "id": "AtPTtsgDojDp"
      },
      "outputs": [],
      "source": [
        "!pip install -q findspark\n",
        "import findspark\n",
        "findspark.init()"
      ]
    },
    {
      "cell_type": "code",
      "execution_count": 67,
      "metadata": {
        "id": "Zo5gQs4Kokq6"
      },
      "outputs": [],
      "source": [
        "from pyspark.sql import SparkSession\n",
        "spark = (SparkSession\n",
        ".builder\n",
        ".appName(\"<app_name>\")\n",
        ".getOrCreate())"
      ]
    },
    {
      "cell_type": "code",
      "execution_count": 68,
      "metadata": {
        "id": "2NPdH-Jhr-0T"
      },
      "outputs": [],
      "source": [
        "from google.colab import drive"
      ]
    },
    {
      "cell_type": "code",
      "source": [
        "drive.mount('/content/drive')"
      ],
      "metadata": {
        "id": "5-dzv7VgqxBh",
        "colab": {
          "base_uri": "https://localhost:8080/"
        },
        "outputId": "a0fd1d56-9d76-4a5a-c1bb-f10e7bd2aeef"
      },
      "execution_count": 69,
      "outputs": [
        {
          "output_type": "stream",
          "name": "stdout",
          "text": [
            "Drive already mounted at /content/drive; to attempt to forcibly remount, call drive.mount(\"/content/drive\", force_remount=True).\n"
          ]
        }
      ]
    },
    {
      "cell_type": "code",
      "execution_count": 70,
      "metadata": {
        "id": "EuzVX3mRomKO"
      },
      "outputs": [],
      "source": [
        "df_history=spark.read.csv('/content/drive/MyDrive/For_DG/chess_wc_history_game_info.csv',header='true')\n",
        "df_moves=spark.read.csv('/content/drive/MyDrive/For_DG/chess_wc_history_moves.csv',header='true')\n",
        "df_eco=spark.read.csv('/content/drive/MyDrive/For_DG/eco_codes.csv',header='true')"
      ]
    },
    {
      "cell_type": "code",
      "execution_count": 71,
      "metadata": {
        "id": "Yz3fXiqlshz_",
        "colab": {
          "base_uri": "https://localhost:8080/"
        },
        "outputId": "a5942614-a24c-4976-ac66-4409752dc633"
      },
      "outputs": [
        {
          "output_type": "stream",
          "name": "stdout",
          "text": [
            "+--------------------+----------+--------+----------+-----------+-----+----------------+----------------+-------+---------+---------+-----------+-----------+---------+----------+----------------+---------+---------------------+---+--------------------+---------------+\n",
            "|             game_id|game_order|   event|      site|date_played|round|           white|           black| result|white_elo|black_elo|white_title|black_title|   winner|winner_elo|           loser|loser_elo|winner_loser_elo_diff|eco|        date_created|tournament_name|\n",
            "+--------------------+----------+--------+----------+-----------+-----+----------------+----------------+-------+---------+---------+-----------+-----------+---------+----------+----------------+---------+---------------------+---+--------------------+---------------+\n",
            "|86e0b7f5-7b94-4ae...|         1|WCh 2021| Dubai UAE| 2021.11.26|    1|Nepomniachtchi,I|       Carlsen,M|1/2-1/2|     2782|     2855|       null|       null|     draw|      null|            draw|     null|                    0|C88|2022-07-22T22:33:...| WorldChamp2021|\n",
            "|dc4a10ab-54cf-49d...|         2|WCh 2021| Dubai UAE| 2021.11.27|    2|       Carlsen,M|Nepomniachtchi,I|1/2-1/2|     2855|     2782|       null|       null|     draw|      null|            draw|     null|                    0|E06|2022-07-22T22:33:...| WorldChamp2021|\n",
            "|f042ca37-8899-488...|         3|WCh 2021| Dubai UAE| 2021.11.28|    3|Nepomniachtchi,I|       Carlsen,M|1/2-1/2|     2782|     2855|       null|       null|     draw|      null|            draw|     null|                    0|C88|2022-07-22T22:33:...| WorldChamp2021|\n",
            "|f70e4bbc-21e3-46f...|         4|WCh 2021| Dubai UAE| 2021.11.30|    4|       Carlsen,M|Nepomniachtchi,I|1/2-1/2|     2855|     2782|       null|       null|     draw|      null|            draw|     null|                    0|C42|2022-07-22T22:33:...| WorldChamp2021|\n",
            "|c941c323-308a-4c8...|         5|WCh 2021| Dubai UAE| 2021.12.01|    5|Nepomniachtchi,I|       Carlsen,M|1/2-1/2|     2782|     2855|       null|       null|     draw|      null|            draw|     null|                    0|C88|2022-07-22T22:33:...| WorldChamp2021|\n",
            "|58e83255-93bb-4d5...|         6|WCh 2021| Dubai UAE| 2021.12.03|    6|       Carlsen,M|Nepomniachtchi,I|    1-0|     2855|     2782|       null|       null|Carlsen,M|      2855|Nepomniachtchi,I|     2782|                   73|D02|2022-07-22T22:33:...| WorldChamp2021|\n",
            "|29181d93-73f4-4fb...|         7|WCh 2021| Dubai UAE| 2021.12.04|    7|Nepomniachtchi,I|       Carlsen,M|1/2-1/2|     2782|     2855|       null|       null|     draw|      null|            draw|     null|                    0|C88|2022-07-22T22:33:...| WorldChamp2021|\n",
            "|8a4ccd8c-d437-429...|         8|WCh 2021| Dubai UAE| 2021.12.05|    8|       Carlsen,M|Nepomniachtchi,I|    1-0|     2855|     2782|       null|       null|Carlsen,M|      2855|Nepomniachtchi,I|     2782|                   73|C43|2022-07-22T22:33:...| WorldChamp2021|\n",
            "|55a122db-27d1-495...|         9|WCh 2021| Dubai UAE| 2021.12.07|    9|Nepomniachtchi,I|       Carlsen,M|    0-1|     2782|     2855|       null|       null|Carlsen,M|      2855|Nepomniachtchi,I|     2782|                   73|A13|2022-07-22T22:33:...| WorldChamp2021|\n",
            "|1f900d18-5ea3-4f4...|        10|WCh 2021| Dubai UAE| 2021.12.08|   10|       Carlsen,M|Nepomniachtchi,I|1/2-1/2|     2855|     2782|       null|       null|     draw|      null|            draw|     null|                    0|C42|2022-07-22T22:33:...| WorldChamp2021|\n",
            "|c512a953-a341-47c...|        11|WCh 2021| Dubai UAE| 2021.12.10|   11|Nepomniachtchi,I|       Carlsen,M|    0-1|     2782|     2855|       null|       null|Carlsen,M|      2855|Nepomniachtchi,I|     2782|                   73|C50|2022-07-22T22:33:...| WorldChamp2021|\n",
            "|99d39a93-427e-4d1...|         1|WCh 2018|London ENG| 2018.11.09|    1|Caruana, Fabiano| Carlsen, Magnus|1/2-1/2|     2832|     2835|         GM|         GM|     draw|      null|            draw|     null|                    0|B31|2022-07-22T22:33:...| WorldChamp2018|\n",
            "|c87ceb3e-67a7-45d...|         2|WCh 2018|London ENG| 2018.11.10|    2| Carlsen, Magnus|Caruana, Fabiano|1/2-1/2|     2835|     2832|         GM|         GM|     draw|      null|            draw|     null|                    0|D37|2022-07-22T22:33:...| WorldChamp2018|\n",
            "|d50510ea-9c1a-460...|         3|WCh 2018|London ENG| 2018.11.12|    3|Caruana, Fabiano| Carlsen, Magnus|1/2-1/2|     2832|     2835|         GM|         GM|     draw|      null|            draw|     null|                    0|B31|2022-07-22T22:33:...| WorldChamp2018|\n",
            "|e899e16a-281e-41b...|         4|WCh 2018|London ENG| 2018.11.13|    4| Carlsen, Magnus|Caruana, Fabiano|1/2-1/2|     2835|     2832|         GM|         GM|     draw|      null|            draw|     null|                    0|A29|2022-07-22T22:33:...| WorldChamp2018|\n",
            "|59f8da88-fd21-405...|         5|WCh 2018|London ENG| 2018.11.15|    5|Caruana, Fabiano| Carlsen, Magnus|1/2-1/2|     2832|     2835|         GM|         GM|     draw|      null|            draw|     null|                    0|B31|2022-07-22T22:33:...| WorldChamp2018|\n",
            "|6dcc4b46-3155-47e...|         6|WCh 2018|London ENG| 2018.11.16|    6| Carlsen, Magnus|Caruana, Fabiano|1/2-1/2|     2835|     2832|         GM|         GM|     draw|      null|            draw|     null|                    0|C42|2022-07-22T22:33:...| WorldChamp2018|\n",
            "|c0c727cf-03ec-4b4...|         7|WCh 2018|London ENG| 2018.11.18|    7| Carlsen, Magnus|Caruana, Fabiano|1/2-1/2|     2835|     2832|         GM|         GM|     draw|      null|            draw|     null|                    0|D37|2022-07-22T22:33:...| WorldChamp2018|\n",
            "|4c14e044-cacc-405...|         8|WCh 2018|London ENG| 2018.11.19|    8|Caruana, Fabiano| Carlsen, Magnus|1/2-1/2|     2832|     2835|         GM|         GM|     draw|      null|            draw|     null|                    0|B33|2022-07-22T22:33:...| WorldChamp2018|\n",
            "|3f4eb26e-3cd1-43b...|         9|WCh 2018|London ENG| 2018.11.21|    9| Carlsen, Magnus|Caruana, Fabiano|1/2-1/2|     2835|     2832|         GM|         GM|     draw|      null|            draw|     null|                    0|A29|2022-07-22T22:33:...| WorldChamp2018|\n",
            "+--------------------+----------+--------+----------+-----------+-----+----------------+----------------+-------+---------+---------+-----------+-----------+---------+----------+----------------+---------+---------------------+---+--------------------+---------------+\n",
            "only showing top 20 rows\n",
            "\n"
          ]
        }
      ],
      "source": [
        "df_history.show()"
      ]
    },
    {
      "cell_type": "code",
      "execution_count": 72,
      "metadata": {
        "id": "nW4T3x6bsuUw",
        "colab": {
          "base_uri": "https://localhost:8080/"
        },
        "outputId": "36b882d1-d668-4f01-da39-312f6820d716"
      },
      "outputs": [
        {
          "output_type": "stream",
          "name": "stdout",
          "text": [
            "+--------------------+-------+------------+----------------+--------+----+-----------+---------+-----+-----+--------------------+--------+-------------+--------------+----------------------+------------+------------------------+-----------+-----------+----------------+----------------+-----------------+-----------------+------------------+------------------+------------------+------------------+----------------+----------------+------------------------+------------------------+--------------------+--------------------+--------------------+--------------------+--------------------+--------------------+--------------------+--------------------+--------------------+--------------------+--------------------+--------------------+--------------------+--------------------+--------------------+--------------------+--------------------+--------------------+--------------------+--------------------+--------------------+--------------------+--------------------+--------------------+--------------------+--------------------+--------------------+--------------------+--------------------+--------------------+--------------------+--------------------+--------------------+\n",
            "|             game_id|move_no|move_no_pair|          player|notation|move|from_square|to_square|piece|color|                 fen|is_check|is_check_mate|is_fifty_moves|is_fivefold_repetition|is_game_over|is_insufficient_material|white_count|black_count|white_pawn_count|black_pawn_count|white_queen_count|black_queen_count|white_bishop_count|black_bishop_count|white_knight_count|black_knight_count|white_rook_count|black_rook_count|captured_score_for_white|captured_score_for_black|fen_row1_white_count|fen_row2_white_count|fen_row3_white_count|fen_row4_white_count|fen_row5_white_count|fen_row6_white_count|fen_row7_white_count|fen_row8_white_count|fen_row1_white_value|fen_row2_white_value|fen_row3_white_value|fen_row4_white_value|fen_row5_white_value|fen_row6_white_value|fen_row7_white_value|fen_row8_white_value|fen_row1_black_count|fen_row2_black_count|fen_row3_black_count|fen_row4_black_count|fen_row5_black_count|fen_row6_black_count|fen_row7_black_count|fen_row8_black_count|fen_row1_black_value|fen_row2_black_value|fen_row3_black_value|fen_row4_black_value|fen_row5_black_value|fen_row6_black_value|fen_row7_black_value|fen_row8_black_value|       move_sequence|\n",
            "+--------------------+-------+------------+----------------+--------+----+-----------+---------+-----+-----+--------------------+--------+-------------+--------------+----------------------+------------+------------------------+-----------+-----------+----------------+----------------+-----------------+-----------------+------------------+------------------+------------------+------------------+----------------+----------------+------------------------+------------------------+--------------------+--------------------+--------------------+--------------------+--------------------+--------------------+--------------------+--------------------+--------------------+--------------------+--------------------+--------------------+--------------------+--------------------+--------------------+--------------------+--------------------+--------------------+--------------------+--------------------+--------------------+--------------------+--------------------+--------------------+--------------------+--------------------+--------------------+--------------------+--------------------+--------------------+--------------------+--------------------+--------------------+\n",
            "|86e0b7f5-7b94-4ae...|      1|           1|Nepomniachtchi,I|      e4|e2e4|         e2|       e4|    P|White|rnbqkbnr/pppppppp...|       0|            0|             0|                     0|           0|                       0|         16|         16|               8|               8|                1|                1|                 2|                 2|                 2|                 2|               2|               2|                       0|                       0|                   8|                   7|                   0|                   1|                   0|                   0|                   0|                   0|                  31|                   7|                   0|                   1|                   0|                   0|                   0|                   0|                   0|                   0|                   0|                   0|                   0|                   0|                   8|                   8|                   0|                   0|                   0|                   0|                   0|                   0|                   8|                  31|                  e4|\n",
            "|86e0b7f5-7b94-4ae...|      2|           1|       Carlsen,M|      e5|e7e5|         e7|       e5|    P|Black|rnbqkbnr/pppp1ppp...|       0|            0|             0|                     0|           0|                       0|         16|         16|               8|               8|                1|                1|                 2|                 2|                 2|                 2|               2|               2|                       0|                       0|                   8|                   7|                   0|                   1|                   0|                   0|                   0|                   0|                  31|                   7|                   0|                   1|                   0|                   0|                   0|                   0|                   0|                   0|                   0|                   0|                   1|                   0|                   7|                   8|                   0|                   0|                   0|                   0|                   1|                   0|                   7|                  31|               e4|e5|\n",
            "|86e0b7f5-7b94-4ae...|      3|           2|Nepomniachtchi,I|     Nf3|g1f3|         g1|       f3|    N|White|rnbqkbnr/pppp1ppp...|       0|            0|             0|                     0|           0|                       0|         16|         16|               8|               8|                1|                1|                 2|                 2|                 2|                 2|               2|               2|                       0|                       0|                   7|                   7|                   1|                   1|                   0|                   0|                   0|                   0|                  28|                   7|                   3|                   1|                   0|                   0|                   0|                   0|                   0|                   0|                   0|                   0|                   1|                   0|                   7|                   8|                   0|                   0|                   0|                   0|                   1|                   0|                   7|                  31|           e4|e5|Nf3|\n",
            "|86e0b7f5-7b94-4ae...|      4|           2|       Carlsen,M|     Nc6|b8c6|         b8|       c6|    N|Black|r1bqkbnr/pppp1ppp...|       0|            0|             0|                     0|           0|                       0|         16|         16|               8|               8|                1|                1|                 2|                 2|                 2|                 2|               2|               2|                       0|                       0|                   7|                   7|                   1|                   1|                   0|                   0|                   0|                   0|                  28|                   7|                   3|                   1|                   0|                   0|                   0|                   0|                   0|                   0|                   0|                   0|                   1|                   1|                   7|                   7|                   0|                   0|                   0|                   0|                   1|                   3|                   7|                  28|       e4|e5|Nf3|Nc6|\n",
            "|86e0b7f5-7b94-4ae...|      5|           3|Nepomniachtchi,I|     Bb5|f1b5|         f1|       b5|    B|White|r1bqkbnr/pppp1ppp...|       0|            0|             0|                     0|           0|                       0|         16|         16|               8|               8|                1|                1|                 2|                 2|                 2|                 2|               2|               2|                       0|                       0|                   6|                   7|                   1|                   1|                   1|                   0|                   0|                   0|                  25|                   7|                   3|                   1|                   3|                   0|                   0|                   0|                   0|                   0|                   0|                   0|                   1|                   1|                   7|                   7|                   0|                   0|                   0|                   0|                   1|                   3|                   7|                  28|   e4|e5|Nf3|Nc6|Bb5|\n",
            "|86e0b7f5-7b94-4ae...|      6|           3|       Carlsen,M|      a6|a7a6|         a7|       a6|    P|Black|r1bqkbnr/1ppp1ppp...|       0|            0|             0|                     0|           0|                       0|         16|         16|               8|               8|                1|                1|                 2|                 2|                 2|                 2|               2|               2|                       0|                       0|                   6|                   7|                   1|                   1|                   1|                   0|                   0|                   0|                  25|                   7|                   3|                   1|                   3|                   0|                   0|                   0|                   0|                   0|                   0|                   0|                   1|                   2|                   6|                   7|                   0|                   0|                   0|                   0|                   1|                   4|                   6|                  28|e4|e5|Nf3|Nc6|Bb5|a6|\n",
            "|86e0b7f5-7b94-4ae...|      7|           4|Nepomniachtchi,I|     Ba4|b5a4|         b5|       a4|    B|White|r1bqkbnr/1ppp1ppp...|       0|            0|             0|                     0|           0|                       0|         16|         16|               8|               8|                1|                1|                 2|                 2|                 2|                 2|               2|               2|                       0|                       0|                   6|                   7|                   1|                   2|                   0|                   0|                   0|                   0|                  25|                   7|                   3|                   4|                   0|                   0|                   0|                   0|                   0|                   0|                   0|                   0|                   1|                   2|                   6|                   7|                   0|                   0|                   0|                   0|                   1|                   4|                   6|                  28|e4|e5|Nf3|Nc6|Bb5...|\n",
            "|86e0b7f5-7b94-4ae...|      8|           4|       Carlsen,M|     Nf6|g8f6|         g8|       f6|    N|Black|r1bqkb1r/1ppp1ppp...|       0|            0|             0|                     0|           0|                       0|         16|         16|               8|               8|                1|                1|                 2|                 2|                 2|                 2|               2|               2|                       0|                       0|                   6|                   7|                   1|                   2|                   0|                   0|                   0|                   0|                  25|                   7|                   3|                   4|                   0|                   0|                   0|                   0|                   0|                   0|                   0|                   0|                   1|                   3|                   6|                   6|                   0|                   0|                   0|                   0|                   1|                   7|                   6|                  25|e4|e5|Nf3|Nc6|Bb5...|\n",
            "|86e0b7f5-7b94-4ae...|      9|           5|Nepomniachtchi,I|     O-O|e1g1|         e1|       g1|    K|White|r1bqkb1r/1ppp1ppp...|       0|            0|             0|                     0|           0|                       0|         16|         16|               8|               8|                1|                1|                 2|                 2|                 2|                 2|               2|               2|                       0|                       0|                   6|                   7|                   1|                   2|                   0|                   0|                   0|                   0|                  25|                   7|                   3|                   4|                   0|                   0|                   0|                   0|                   0|                   0|                   0|                   0|                   1|                   3|                   6|                   6|                   0|                   0|                   0|                   0|                   1|                   7|                   6|                  25|e4|e5|Nf3|Nc6|Bb5...|\n",
            "|86e0b7f5-7b94-4ae...|     10|           5|       Carlsen,M|     Be7|f8e7|         f8|       e7|    B|Black|r1bqk2r/1pppbppp/...|       0|            0|             0|                     0|           0|                       0|         16|         16|               8|               8|                1|                1|                 2|                 2|                 2|                 2|               2|               2|                       0|                       0|                   6|                   7|                   1|                   2|                   0|                   0|                   0|                   0|                  25|                   7|                   3|                   4|                   0|                   0|                   0|                   0|                   0|                   0|                   0|                   0|                   1|                   3|                   7|                   5|                   0|                   0|                   0|                   0|                   1|                   7|                   9|                  22|e4|e5|Nf3|Nc6|Bb5...|\n",
            "|86e0b7f5-7b94-4ae...|     11|           6|Nepomniachtchi,I|     Re1|f1e1|         f1|       e1|    R|White|r1bqk2r/1pppbppp/...|       0|            0|             0|                     0|           0|                       0|         16|         16|               8|               8|                1|                1|                 2|                 2|                 2|                 2|               2|               2|                       0|                       0|                   6|                   7|                   1|                   2|                   0|                   0|                   0|                   0|                  25|                   7|                   3|                   4|                   0|                   0|                   0|                   0|                   0|                   0|                   0|                   0|                   1|                   3|                   7|                   5|                   0|                   0|                   0|                   0|                   1|                   7|                   9|                  22|e4|e5|Nf3|Nc6|Bb5...|\n",
            "|86e0b7f5-7b94-4ae...|     12|           6|       Carlsen,M|      b5|b7b5|         b7|       b5|    P|Black|r1bqk2r/2ppbppp/p...|       0|            0|             0|                     0|           0|                       0|         16|         16|               8|               8|                1|                1|                 2|                 2|                 2|                 2|               2|               2|                       0|                       0|                   6|                   7|                   1|                   2|                   0|                   0|                   0|                   0|                  25|                   7|                   3|                   4|                   0|                   0|                   0|                   0|                   0|                   0|                   0|                   0|                   2|                   3|                   6|                   5|                   0|                   0|                   0|                   0|                   2|                   7|                   8|                  22|e4|e5|Nf3|Nc6|Bb5...|\n",
            "|86e0b7f5-7b94-4ae...|     13|           7|Nepomniachtchi,I|     Bb3|a4b3|         a4|       b3|    B|White|r1bqk2r/2ppbppp/p...|       0|            0|             0|                     0|           0|                       0|         16|         16|               8|               8|                1|                1|                 2|                 2|                 2|                 2|               2|               2|                       0|                       0|                   6|                   7|                   2|                   1|                   0|                   0|                   0|                   0|                  25|                   7|                   6|                   1|                   0|                   0|                   0|                   0|                   0|                   0|                   0|                   0|                   2|                   3|                   6|                   5|                   0|                   0|                   0|                   0|                   2|                   7|                   8|                  22|e4|e5|Nf3|Nc6|Bb5...|\n",
            "|86e0b7f5-7b94-4ae...|     14|           7|       Carlsen,M|     O-O|e8g8|         e8|       g8|    K|Black|r1bq1rk1/2ppbppp/...|       0|            0|             0|                     0|           0|                       0|         16|         16|               8|               8|                1|                1|                 2|                 2|                 2|                 2|               2|               2|                       0|                       0|                   6|                   7|                   2|                   1|                   0|                   0|                   0|                   0|                  25|                   7|                   6|                   1|                   0|                   0|                   0|                   0|                   0|                   0|                   0|                   0|                   2|                   3|                   6|                   5|                   0|                   0|                   0|                   0|                   2|                   7|                   8|                  22|e4|e5|Nf3|Nc6|Bb5...|\n",
            "|86e0b7f5-7b94-4ae...|     15|           8|Nepomniachtchi,I|      h3|h2h3|         h2|       h3|    P|White|r1bq1rk1/2ppbppp/...|       0|            0|             0|                     0|           0|                       0|         16|         16|               8|               8|                1|                1|                 2|                 2|                 2|                 2|               2|               2|                       0|                       0|                   6|                   6|                   3|                   1|                   0|                   0|                   0|                   0|                  25|                   6|                   7|                   1|                   0|                   0|                   0|                   0|                   0|                   0|                   0|                   0|                   2|                   3|                   6|                   5|                   0|                   0|                   0|                   0|                   2|                   7|                   8|                  22|e4|e5|Nf3|Nc6|Bb5...|\n",
            "|86e0b7f5-7b94-4ae...|     16|           8|       Carlsen,M|     Na5|c6a5|         c6|       a5|    N|Black|r1bq1rk1/2ppbppp/...|       0|            0|             0|                     0|           0|                       0|         16|         16|               8|               8|                1|                1|                 2|                 2|                 2|                 2|               2|               2|                       0|                       0|                   6|                   6|                   3|                   1|                   0|                   0|                   0|                   0|                  25|                   6|                   7|                   1|                   0|                   0|                   0|                   0|                   0|                   0|                   0|                   0|                   3|                   2|                   6|                   5|                   0|                   0|                   0|                   0|                   5|                   4|                   8|                  22|e4|e5|Nf3|Nc6|Bb5...|\n",
            "|86e0b7f5-7b94-4ae...|     17|           9|Nepomniachtchi,I|    Nxe5|f3e5|         f3|       e5|    N|White|r1bq1rk1/2ppbppp/...|       0|            0|             0|                     0|           0|                       0|         16|         15|               8|               7|                1|                1|                 2|                 2|                 2|                 2|               2|               2|                       1|                       0|                   6|                   6|                   2|                   1|                   1|                   0|                   0|                   0|                  25|                   6|                   4|                   1|                   3|                   0|                   0|                   0|                   0|                   0|                   0|                   0|                   2|                   2|                   6|                   5|                   0|                   0|                   0|                   0|                   4|                   4|                   8|                  22|e4|e5|Nf3|Nc6|Bb5...|\n",
            "|86e0b7f5-7b94-4ae...|     18|           9|       Carlsen,M|    Nxb3|a5b3|         a5|       b3|    N|Black|r1bq1rk1/2ppbppp/...|       0|            0|             0|                     0|           0|                       0|         15|         15|               8|               7|                1|                1|                 1|                 2|                 2|                 2|               2|               2|                       1|                       3|                   6|                   6|                   1|                   1|                   1|                   0|                   0|                   0|                  25|                   6|                   1|                   1|                   3|                   0|                   0|                   0|                   0|                   0|                   1|                   0|                   1|                   2|                   6|                   5|                   0|                   0|                   3|                   0|                   1|                   4|                   8|                  22|e4|e5|Nf3|Nc6|Bb5...|\n",
            "|86e0b7f5-7b94-4ae...|     19|          10|Nepomniachtchi,I|    axb3|a2b3|         a2|       b3|    P|White|r1bq1rk1/2ppbppp/...|       0|            0|             0|                     0|           0|                       0|         15|         14|               8|               7|                1|                1|                 1|                 2|                 2|                 1|               2|               2|                       4|                       3|                   6|                   5|                   2|                   1|                   1|                   0|                   0|                   0|                  25|                   5|                   2|                   1|                   3|                   0|                   0|                   0|                   0|                   0|                   0|                   0|                   1|                   2|                   6|                   5|                   0|                   0|                   0|                   0|                   1|                   4|                   8|                  22|e4|e5|Nf3|Nc6|Bb5...|\n",
            "|86e0b7f5-7b94-4ae...|     20|          10|       Carlsen,M|     Bb7|c8b7|         c8|       b7|    B|Black|r2q1rk1/1bppbppp/...|       0|            0|             0|                     0|           0|                       0|         15|         14|               8|               7|                1|                1|                 1|                 2|                 2|                 1|               2|               2|                       4|                       3|                   6|                   5|                   2|                   1|                   1|                   0|                   0|                   0|                  25|                   5|                   2|                   1|                   3|                   0|                   0|                   0|                   0|                   0|                   0|                   0|                   1|                   2|                   7|                   4|                   0|                   0|                   0|                   0|                   1|                   4|                  11|                  19|e4|e5|Nf3|Nc6|Bb5...|\n",
            "+--------------------+-------+------------+----------------+--------+----+-----------+---------+-----+-----+--------------------+--------+-------------+--------------+----------------------+------------+------------------------+-----------+-----------+----------------+----------------+-----------------+-----------------+------------------+------------------+------------------+------------------+----------------+----------------+------------------------+------------------------+--------------------+--------------------+--------------------+--------------------+--------------------+--------------------+--------------------+--------------------+--------------------+--------------------+--------------------+--------------------+--------------------+--------------------+--------------------+--------------------+--------------------+--------------------+--------------------+--------------------+--------------------+--------------------+--------------------+--------------------+--------------------+--------------------+--------------------+--------------------+--------------------+--------------------+--------------------+--------------------+--------------------+\n",
            "only showing top 20 rows\n",
            "\n"
          ]
        }
      ],
      "source": [
        "df_moves.show()"
      ]
    },
    {
      "cell_type": "code",
      "execution_count": 73,
      "metadata": {
        "id": "9F9bcL96svyz",
        "colab": {
          "base_uri": "https://localhost:8080/"
        },
        "outputId": "1b894b91-0ed0-4720-c5c8-64fdcdf450bb"
      },
      "outputs": [
        {
          "output_type": "stream",
          "name": "stdout",
          "text": [
            "+---+--------------------+--------------------+--------+---------+\n",
            "|eco|            eco_name|         eco_example|eco_type|eco_group|\n",
            "+---+--------------------+--------------------+--------+---------+\n",
            "|A00|    Uncommon Opening|  1 g4, a3, h3, etc.|       A|    Flank|\n",
            "|A01|Nimzovich-Larsen ...|                1 b3|       A|    Flank|\n",
            "|A02|      Bird's Opening|                1 f4|       A|    Flank|\n",
            "|A03|      Bird's Opening|             1 f4 d5|       A|    Flank|\n",
            "|A04|        Reti Opening|               1 Nf3|       A|    Flank|\n",
            "|A05|        Reti Opening|           1 Nf3 Nf6|       A|    Flank|\n",
            "|A06|        Reti Opening|            1 Nf3 d5|       A|    Flank|\n",
            "|A07|King's Indian Attack|       1 Nf3 d5 2 g3|       A|    Flank|\n",
            "|A08|King's Indian Attack|1 Nf3 d5 2 g3 c5 ...|       A|    Flank|\n",
            "|A09|        Reti Opening|       1 Nf3 d5 2 c4|       A|    Flank|\n",
            "|A10|             English|                1 c4|       A|    Flank|\n",
            "|A11|English, Caro-Kan...|             1 c4 c6|       A|    Flank|\n",
            "|A12|     English with b3|1 c4 c6 2 Nf3 d5 ...|       A|    Flank|\n",
            "|A13|             English|             1 c4 e6|       A|    Flank|\n",
            "|A14|             English|1 c4 e6 2 Nf3 d5 ...|       A|    Flank|\n",
            "|A15|             English|            1 c4 Nf6|       A|    Flank|\n",
            "|A16|             English|      1 c4 Nf6 2 Nc3|       A|    Flank|\n",
            "|A17|             English|   1 c4 Nf6 2 Nc3 e6|       A|    Flank|\n",
            "|A18|English, Mikenas-...|1 c4 Nf6 2 Nc3 e6...|       A|    Flank|\n",
            "|A19|English, Mikenas-...|1 c4 Nf6 2 Nc3 e6...|       A|    Flank|\n",
            "+---+--------------------+--------------------+--------+---------+\n",
            "only showing top 20 rows\n",
            "\n"
          ]
        }
      ],
      "source": [
        "df_eco.show()"
      ]
    },
    {
      "cell_type": "code",
      "execution_count": 74,
      "metadata": {
        "id": "ESV-zJFis3Ef"
      },
      "outputs": [],
      "source": [
        "from pyspark.sql import SparkSession\n",
        "import pyspark.sql.functions as F\n",
        "from pyspark.sql.window import Window\n"
      ]
    },
    {
      "cell_type": "markdown",
      "metadata": {
        "id": "q1RF7W1Ad50F"
      },
      "source": [
        "**1.List of Winners of Each World champions Trophy**\n",
        "\n",
        "Hint: Total Result of all rounds of Tournament for that player is considered as that player's Score/Result.\n",
        "\n",
        "Result attributes: winner, tournament_name\n"
      ]
    },
    {
      "cell_type": "code",
      "source": [
        "res = df_history.where((df_history.tournament_name.contains('WorldChamp')) & ~df_history.winner.isin(['draw']))\n",
        "column = ['winner','tournament_name']\n",
        "res = res.select(column).groupBy(column).count()\n",
        "result = Window.partitionBy(\"tournament_name\").orderBy(F.col('count').desc())\n",
        "res = res.withColumn('countrow',F.row_number().over(result)).where(F.col('countrow') == 1)\n",
        "data_1 = ['count,countrow']\n",
        "res = res.orderBy(F.col('tournament_name')).drop(*data_1)\n",
        "res1 = res.select(column)\n",
        "res1.show()\n",
        "res1=res1.toPandas()\n",
        "res1.head()\n",
        "res1.to_csv('/content/drive/MyDrive/DE_SOLUTION_DHANAVEL_K/results/' +'sol1.csv')"
      ],
      "metadata": {
        "id": "vwSIbTyG0ReF",
        "colab": {
          "base_uri": "https://localhost:8080/"
        },
        "outputId": "70c55e17-7f95-489e-b3c7-8a1fedd3d031"
      },
      "execution_count": 75,
      "outputs": [
        {
          "output_type": "stream",
          "name": "stdout",
          "text": [
            "+--------------------+---------------+\n",
            "|              winner|tournament_name|\n",
            "+--------------------+---------------+\n",
            "|   Steinitz, William| WorldChamp1886|\n",
            "|   Steinitz, William| WorldChamp1889|\n",
            "|   Steinitz, William| WorldChamp1890|\n",
            "|   Steinitz, William| WorldChamp1892|\n",
            "|     Lasker, Emanuel| WorldChamp1894|\n",
            "|     Lasker, Emanuel| WorldChamp1896|\n",
            "|     Lasker, Emanuel| WorldChamp1907|\n",
            "|     Lasker, Emanuel| WorldChamp1908|\n",
            "|     Lasker, Emanuel| WorldChamp1909|\n",
            "|    Schlechter, Carl|WorldChamp1910a|\n",
            "|     Lasker, Emanuel|WorldChamp1910b|\n",
            "|Capablanca, Jose ...| WorldChamp1921|\n",
            "| Alekhine, Alexander| WorldChamp1927|\n",
            "| Alekhine, Alexander| WorldChamp1929|\n",
            "| Alekhine, Alexander| WorldChamp1934|\n",
            "|           Euwe, Max| WorldChamp1935|\n",
            "| Alekhine, Alexander| WorldChamp1937|\n",
            "|  Botvinnik, Mikhail| WorldChamp1948|\n",
            "|  Botvinnik, Mikhail| WorldChamp1951|\n",
            "|  Botvinnik, Mikhail| WorldChamp1954|\n",
            "+--------------------+---------------+\n",
            "only showing top 20 rows\n",
            "\n"
          ]
        }
      ]
    },
    {
      "cell_type": "markdown",
      "metadata": {
        "id": "mxlPDUame60U"
      },
      "source": [
        "**2.List of Players with number of times they have won Tournament in descending order(Max to min)**.\n",
        "\n",
        "Result attributes: player_name, number_of_wins"
      ]
    },
    {
      "cell_type": "code",
      "execution_count": 76,
      "metadata": {
        "id": "Z1UszCBMe6km",
        "colab": {
          "base_uri": "https://localhost:8080/"
        },
        "outputId": "1e600d6c-eb6b-4d7d-93be-c189cd120f16"
      },
      "outputs": [
        {
          "output_type": "stream",
          "name": "stdout",
          "text": [
            "+--------------------+-----+\n",
            "|              winner|count|\n",
            "+--------------------+-----+\n",
            "|     Lasker, Emanuel|   52|\n",
            "|     Karpov, Anatoly|   47|\n",
            "|  Botvinnik, Mikhail|   46|\n",
            "|   Steinitz, William|   43|\n",
            "| Alekhine, Alexander|   43|\n",
            "|           Topalov,V|   32|\n",
            "|      Kasparov, Gary|   31|\n",
            "|             Anand,V|   30|\n",
            "|    Smyslov, Vassily|   24|\n",
            "|            Adams,Mi|   20|\n",
            "|      Kasimdzhanov,R|   19|\n",
            "|          Grischuk,A|   17|\n",
            "|           Svidler,P|   16|\n",
            "|      Adams, Michael|   16|\n",
            "|            Bareev,E|   15|\n",
            "|             Dreev,A|   15|\n",
            "|            Shirov,A|   15|\n",
            "|   Chigorin, Mikhail|   14|\n",
            "|Khalifman, Alexander|   14|\n",
            "|           Euwe, Max|   14|\n",
            "+--------------------+-----+\n",
            "only showing top 20 rows\n",
            "\n"
          ]
        }
      ],
      "source": [
        "from pyspark.sql.functions import col,asc,desc\n",
        "win_count=df_history.where(df_history.winner!='draw').groupBy(\"winner\").count()\n",
        "res2=win_count.sort(col(\"count\").desc())\n",
        "res2.show()\n",
        "res2=res2.toPandas()\n",
        "res2.head()\n",
        "res2.to_csv('/content/drive/MyDrive/DE_SOLUTION_DHANAVEL_K/results/' +'sol2.csv')"
      ]
    },
    {
      "cell_type": "markdown",
      "metadata": {
        "id": "itx-VxKHx33N"
      },
      "source": [
        "**3.Most and Least Popular eco move in world championship history.**\n",
        "\n",
        "Result attributes: eco, eco_name, number_of_occurences\n",
        "\n",
        "Final result will have only two rows"
      ]
    },
    {
      "cell_type": "code",
      "source": [
        "dm=df_eco.select(\"eco\",\"eco_name\")\n",
        "pop=dm.groupBy(\"eco_name\").count()\n",
        "pop=pop.sort(col(\"count\").desc())\n",
        "pop.registerTempTable(\"df_res\")\n",
        "res3=spark.sql(\"select eco_name, count from df_res where count = (select max(count) from df_res) union all select eco_name, count from df_res where count = (select min(count) from df_res)\")\n",
        "res3.show()\n",
        "res3=res3.toPandas()\n",
        "res3.head()\n",
        "res3.to_csv('/content/drive/MyDrive/DE_SOLUTION_DHANAVEL_K/results/' +'sol3.csv')"
      ],
      "metadata": {
        "id": "FNVAuiZ7rF06",
        "colab": {
          "base_uri": "https://localhost:8080/"
        },
        "outputId": "776feafc-ffca-47f8-bab9-eb03e858b92f"
      },
      "execution_count": 77,
      "outputs": [
        {
          "output_type": "stream",
          "name": "stdout",
          "text": [
            "+--------------------+-----+\n",
            "|            eco_name|count|\n",
            "+--------------------+-----+\n",
            "|            Sicilian|   15|\n",
            "|Sicilian, Acceler...|    1|\n",
            "|       Three Knights|    1|\n",
            "|Ruy Lopez, Bird's...|    1|\n",
            "|King's Indian, Or...|    1|\n",
            "|King's Indian Def...|    1|\n",
            "|          Old Benoni|    1|\n",
            "|    Sicilian, Alapin|    1|\n",
            "|Sicilian, Dragon,...|    1|\n",
            "|Dutch, Stonewall,...|    1|\n",
            "|Queen's Gambit De...|    1|\n",
            "|Catalan, Closed, ...|    1|\n",
            "|King's Indian, Fo...|    1|\n",
            "|Benoni, Classical...|    1|\n",
            "|Sicilian, Richter...|    1|\n",
            "|Sicilian, Fischer...|    1|\n",
            "|King's Indian, Or...|    1|\n",
            "|Benoni, Classical...|    1|\n",
            "|   Caro-Kann Defense|    1|\n",
            "|     French, Advance|    1|\n",
            "+--------------------+-----+\n",
            "only showing top 20 rows\n",
            "\n"
          ]
        }
      ]
    },
    {
      "cell_type": "markdown",
      "source": [
        "**4.Find the eco move with most winnings.**\n",
        "\n",
        "Ps. Use this opening move in your next chess game🙂\n",
        "\n",
        "Result attributes: eco, eco_name"
      ],
      "metadata": {
        "id": "1n_ZECaWQUdK"
      }
    },
    {
      "cell_type": "code",
      "source": [
        "r1=df_history.select(\"eco\")\n",
        "popl=r1.groupBy(\"eco\").count()\n",
        "popl=popl.sort(col(\"count\").desc())\n",
        "r2=df_eco.select(\"eco\",\"eco_name\")\n",
        "popl.registerTempTable(\"df_res1\")\n",
        "r2.registerTempTable(\"df_res2\")\n",
        "res4=spark.sql(\"select t2.eco,t2.eco_name from df_res1 t1,df_res2 t2 where t1.count=(select max(count) from df_res1) and t1.eco=t2.eco\")\n",
        "res4.show()\n",
        "res4=res4.toPandas()\n",
        "res4.head()\n",
        "res4.to_csv('/content/drive/MyDrive/DE_SOLUTION_DHANAVEL_K/results/' +'sol4.csv')"
      ],
      "metadata": {
        "id": "cS36a5RozQKf",
        "colab": {
          "base_uri": "https://localhost:8080/"
        },
        "outputId": "bd6e7e01-cdac-4d6c-85c1-09011120bd0c"
      },
      "execution_count": 78,
      "outputs": [
        {
          "output_type": "stream",
          "name": "stdout",
          "text": [
            "+---+--------------+\n",
            "|eco|      eco_name|\n",
            "+---+--------------+\n",
            "|C42|Petrov Defense|\n",
            "+---+--------------+\n",
            "\n"
          ]
        }
      ]
    },
    {
      "cell_type": "markdown",
      "source": [
        "**5.Longest and shortest game ever played in a world championship in terms of move.**\n",
        "\n",
        "Chess Funda: \"move\" is completed once both White and Black have played one turn. e.g If a game lasts 10 moves, both White and Black have\n",
        "played 10 moves)\n",
        "\n",
        "Result attributes: game_id, event, tournament_name, number_of_moves\n",
        "Final result will have only two rows"
      ],
      "metadata": {
        "id": "Mjem3JoPQZze"
      }
    },
    {
      "cell_type": "code",
      "source": [
        "t1=df_moves.select(\"game_id\",\"move_no_pair\")\n",
        "t2=df_history.select(\"game_id\",\"tournament_name\",\"event\")\n",
        "\n",
        "popular=t1.groupBy(\"game_id\").count()\n",
        "popular=popular.sort(col(\"count\").desc())\n",
        "\n",
        "popular.registerTempTable(\"df_table1\")\n",
        "t2.registerTempTable(\"df_table2\")\n",
        "\n",
        "res5=spark.sql(\"select t2.game_id,t2.event,t2.tournament_name,t1.count as number_of_moves from df_table1 t1, df_table2 t2 where t1.count = (select max(count) from df_table1) and t1.game_id=t2.game_id union all select t2.game_id,t2.event,t2.tournament_name,t1.count as number_of_moves from df_table1 t1,df_table2 t2 where t1.count = (select min(count) from df_table1) and t1.game_id=t2.game_id\")\n",
        "res5.show()\n",
        "res5=res5.toPandas()\n",
        "res5.head()\n",
        "res5.to_csv('/content/drive/MyDrive/DE_SOLUTION_DHANAVEL_K/results/' +'sol5.csv')"
      ],
      "metadata": {
        "id": "MffwjPdaf3Bk",
        "colab": {
          "base_uri": "https://localhost:8080/"
        },
        "outputId": "5708e4ee-0908-46a3-ad75-1c5874888cb8"
      },
      "execution_count": 79,
      "outputs": [
        {
          "output_type": "stream",
          "name": "stdout",
          "text": [
            "+--------------------+--------------------+---------------+---------------+\n",
            "|             game_id|               event|tournament_name|number_of_moves|\n",
            "+--------------------+--------------------+---------------+---------------+\n",
            "|4424a0a4-3732-407...|         FIDE WCh KO|  FideChamp2000|            291|\n",
            "|1846cede-0037-4f0...|World Championshi...| WorldChamp1972|              1|\n",
            "+--------------------+--------------------+---------------+---------------+\n",
            "\n"
          ]
        }
      ]
    },
    {
      "cell_type": "markdown",
      "source": [
        "**6.Shortest and Longest Draw game ever Played.**\n",
        "\n",
        "Result attributes: game_id, event, tournament_name, number_of_moves\n",
        "\n",
        "Final result will have only two rows"
      ],
      "metadata": {
        "id": "oUVL5iAWRlBb"
      }
    },
    {
      "cell_type": "code",
      "source": [
        "t1=df_moves.select(\"game_id\",\"move_no_pair\")\n",
        "t2=df_history.select(\"game_id\",\"tournament_name\",\"event\",\"winner\").where(df_history.winner==\"draw\")\n",
        "\n",
        "popular=t1.groupBy(\"game_id\").count()\n",
        "popular=popular.sort(col(\"count\").desc())\n",
        "\n",
        "popular.registerTempTable(\"df_table1\")\n",
        "t2.registerTempTable(\"df_table2\")\n",
        "\n",
        "res6=spark.sql(\"select t2.game_id,t2.event,t2.tournament_name,t1.count as number_of_moves from df_table1 t1, df_table2 t2 where t1.count = (select max(count) from df_table1 t1, df_table2 t2 where t2.game_id=t1.game_id) and t1.game_id=t2.game_id union all select t2.game_id,t2.event,t2.tournament_name,t1.count as number_of_moves from df_table1 t1, df_table2 t2 where t1.count = (select min(count) from df_table1 t1, df_table2 t2 where t2.game_id=t1.game_id) and t1.game_id=t2.game_id\")\n",
        "res6.show()\n",
        "\n",
        "res6=res6.toPandas()\n",
        "res6.head()\n",
        "res6.to_csv('/content/drive/MyDrive/DE_SOLUTION_DHANAVEL_K/results/' +'sol6.csv')"
      ],
      "metadata": {
        "id": "dEjKb876f3iv",
        "colab": {
          "base_uri": "https://localhost:8080/"
        },
        "outputId": "3dabcf22-cfa8-464d-d7b2-362dd7b4ea8b"
      },
      "execution_count": 80,
      "outputs": [
        {
          "output_type": "stream",
          "name": "stdout",
          "text": [
            "+--------------------+-------------+---------------+---------------+\n",
            "|             game_id|        event|tournament_name|number_of_moves|\n",
            "+--------------------+-------------+---------------+---------------+\n",
            "|88f34084-e4df-490...|  FIDE WCh KO|  FideChamp2002|            258|\n",
            "|a27c2b95-fb62-4b6...|FIDE-Wch k.o.|  FideChamp1998|             12|\n",
            "+--------------------+-------------+---------------+---------------+\n",
            "\n"
          ]
        }
      ]
    },
    {
      "cell_type": "markdown",
      "source": [
        "**7.Most and Least rated Player.**\n",
        "\n",
        "Result attributes: player_name, elo\n",
        "\n",
        "Chess Funda: elo is the rating of the player in chess tournament.\n",
        "\n",
        "Final result will have only two rows"
      ],
      "metadata": {
        "id": "g-OylmlASrFU"
      }
    },
    {
      "cell_type": "code",
      "source": [
        "top=df_history.select(\"winner\",\"winner_elo\").where((df_history.winner!=\"null\") & (df_history.winner!=\"draw\")).distinct()\n",
        "top_in=top.sort(col(\"winner_elo\").desc())\n",
        "top_in.registerTempTable(\"df_res1\")\n",
        "res7=spark.sql(\"select winner as player_name, winner_elo as elo from df_res1 where winner_elo = (select max(winner_elo) from df_res1) union all select winner as player_name, winner_elo as elo from df_res1 where winner_elo = (select min(winner_elo) from df_res1)\")\n",
        "res7.show()\n",
        "res7=res7.toPandas()\n",
        "res7.head()\n",
        "res7.to_csv('/content/drive/MyDrive/DE_SOLUTION_DHANAVEL_K/results/' +'sol7.csv')"
      ],
      "metadata": {
        "id": "PO-7cICOSq2P",
        "colab": {
          "base_uri": "https://localhost:8080/"
        },
        "outputId": "b8df5f46-7041-4d60-db3d-dba4fbd94074"
      },
      "execution_count": 81,
      "outputs": [
        {
          "output_type": "stream",
          "name": "stdout",
          "text": [
            "+---------------+----+\n",
            "|    player_name| elo|\n",
            "+---------------+----+\n",
            "|Carlsen, Magnus|2870|\n",
            "|     Ciuksyte,D|2271|\n",
            "+---------------+----+\n",
            "\n"
          ]
        }
      ]
    },
    {
      "cell_type": "markdown",
      "source": [
        "**8.3rd Last Player with most Loss.**\n",
        "\n",
        "Result attributes: player_name\n",
        "\n",
        "Final result will have only one row"
      ],
      "metadata": {
        "id": "B0htNNgNTUgd"
      }
    },
    {
      "cell_type": "code",
      "source": [
        "runner=df_history.select(\"loser\").where((df_history.loser!=\"null\") & (df_history.loser!=\"draw\"))\n",
        "t1=runner.groupBy(\"loser\").count()\n",
        "t1=t1.sort(col(\"count\").desc())\n",
        "t1.registerTempTable(\"df_res\")\n",
        "res8=spark.sql(\"select loser from df_res limit 1\")\n",
        "res8.show()\n",
        "res8=res8.toPandas()\n",
        "res8.head()\n",
        "res8.to_csv('/content/drive/MyDrive/DE_SOLUTION_DHANAVEL_K/results/' +'sol8.csv')"
      ],
      "metadata": {
        "id": "GRG-8pkATUQd",
        "colab": {
          "base_uri": "https://localhost:8080/"
        },
        "outputId": "d1960ab4-f33a-4474-c69b-9cd960f2333e"
      },
      "execution_count": 82,
      "outputs": [
        {
          "output_type": "stream",
          "name": "stdout",
          "text": [
            "+-----------------+\n",
            "|            loser|\n",
            "+-----------------+\n",
            "|Steinitz, William|\n",
            "+-----------------+\n",
            "\n"
          ]
        }
      ]
    },
    {
      "cell_type": "markdown",
      "source": [
        "**9.How many times players with low rating won matches with their total win Count.**\n",
        "\n",
        "Result attributes: player_name, win_count"
      ],
      "metadata": {
        "id": "bFgQcTf5TxNc"
      }
    },
    {
      "cell_type": "code",
      "source": [
        "mwin=df_history.select(\"winner\",\"winner_elo\").where((df_history.winner!=\"null\") & (df_history.winner!=\"draw\") & (df_history.loser!=\"null\") & (df_history.loser!=\"draw\") & (df_history.loser_elo>df_history.winner_elo)).distinct()\n",
        "mwin_r=mwin.sort(col(\"winner_elo\").desc())\n",
        "mwin_r.registerTempTable(\"df_res1\")\n",
        "res9=spark.sql(\"select winner as player_name, winner_elo as elo from df_res1 where winner_elo = (select max(winner_elo) from df_res1) union all select winner as player_name, winner_elo as elo from df_res1 where winner_elo = (select min(winner_elo) from df_res1)\")\n",
        "res9.show()\n",
        "res9=res9.toPandas()\n",
        "res9.head()\n",
        "res9.to_csv('/content/drive/MyDrive/DE_SOLUTION_DHANAVEL_K/results/' +'sol9.csv')"
      ],
      "metadata": {
        "id": "NaCFwkHlTw-3",
        "colab": {
          "base_uri": "https://localhost:8080/"
        },
        "outputId": "39034eee-72de-4ff7-ef04-07c1e7f95e6d"
      },
      "execution_count": 83,
      "outputs": [
        {
          "output_type": "stream",
          "name": "stdout",
          "text": [
            "+------------------+----+\n",
            "|       player_name| elo|\n",
            "+------------------+----+\n",
            "|Anand, Viswanathan|2792|\n",
            "|        Ciuksyte,D|2271|\n",
            "+------------------+----+\n",
            "\n"
          ]
        }
      ]
    },
    {
      "cell_type": "markdown",
      "source": [
        "**10.Move Sequence for Each Player in a Match.**\n",
        "\n",
        "Result attributes: game_id, player_name, move_sequence, move_count"
      ],
      "metadata": {
        "id": "ZadAzF0qUaYE"
      }
    },
    {
      "cell_type": "code",
      "source": [
        "res1=df_moves.select(\"player\",\"move_sequence\",\"game_id\")\n",
        "res1.registerTempTable(\"df_result\")\n",
        "res10=spark.sql(\"select player,max(move_sequence) from df_result group by player\")\n",
        "res10.show()\n",
        "res10=res10.toPandas()\n",
        "res10.head()\n",
        "res10.to_csv('/content/drive/MyDrive/DE_SOLUTION_DHANAVEL_K/results/' +'sol10.csv')"
      ],
      "metadata": {
        "id": "h3xp1ysuUaLe",
        "colab": {
          "base_uri": "https://localhost:8080/"
        },
        "outputId": "b796848e-2c55-42a0-bbe9-4c5dbaa1ccbe"
      },
      "execution_count": 84,
      "outputs": [
        {
          "output_type": "stream",
          "name": "stdout",
          "text": [
            "+------------------+--------------------+\n",
            "|            player|  max(move_sequence)|\n",
            "+------------------+--------------------+\n",
            "| Hamdouchi, Hichem|f4|d5|Nf3|g6|d3|N...|\n",
            "|   Alterman, Boris|e4|e5|Nf3|Nf6|Nc3...|\n",
            "|   Fridman, Daniel|e4|e5|Bc4|Nf6|d3|...|\n",
            "|    Svidler, Peter|e4|g6|d4|Bg7|Nc3|...|\n",
            "|    Andersson, Ulf|e4|e6|d4|d5|e5|c5...|\n",
            "|        Ivanchuk,V|e4|e6|d4|d5|e5|b6...|\n",
            "|   Jussupow, Artur|e4|e5|Nf3|Nf6|Nc3...|\n",
            "|  Nepomniachtchi,I|e4|e5|Nf3|Nf6|d4|...|\n",
            "|          Piket,Je|e4|e5|Nf3|Nf6|d4|...|\n",
            "|    Van Wely, Loek|e4|c5|Nf3|d6|c3|N...|\n",
            "|       Onischuk,Al|e4|e5|Nf3|Nc6|Bb5...|\n",
            "|      Peng Xiaomin|e4|e5|Nf3|Nc6|d4|...|\n",
            "| Ivanchuk, Vassily|e4|e5|Nf3|Nc6|d4|...|\n",
            "|    Kacheishvili,G|e4|c6|d4|d5|Nd2|d...|\n",
            "|          Luther,T|e4|e6|d4|d5|Nd2|N...|\n",
            "|Sakaev, Konstantin|d4|d5|c4|dxc4|e4|...|\n",
            "| Steinitz, William|e4|e6|d4|d5|Nc3|d...|\n",
            "|      Vladimirov,E|e4|e6|d4|d5|Nd2|N...|\n",
            "|         Carlsen,M|e4|e5|Nf3|Nf6|d4|...|\n",
            "|Istratescu, Andrei|e4|g6|d4|Bg7|c4|d...|\n",
            "+------------------+--------------------+\n",
            "only showing top 20 rows\n",
            "\n"
          ]
        }
      ]
    },
    {
      "cell_type": "markdown",
      "source": [
        "**11.Total Number of games where losing player has more Captured score than Winning player.**\n",
        "\n",
        "Hint: Captured score is cumulative, i.e., for 3rd capture it will have score \n",
        "for 1, 2, and 3rd.\n",
        "\n",
        "Result attributes: total_number_of_games Final result will have only one row"
      ],
      "metadata": {
        "id": "04uDX24WUn-h"
      }
    },
    {
      "cell_type": "code",
      "source": [],
      "metadata": {
        "id": "Hfql6nYqcwAA"
      },
      "execution_count": 84,
      "outputs": []
    },
    {
      "cell_type": "markdown",
      "source": [
        "**12.List All Perfect Tournament with Winner Name.**\n",
        "\n",
        "Chess Funda: Perfect Tournament means a player has won all the matches excluding draw matches. e.g Player A has won 5 matches out of 7\n",
        "\n",
        "Matches in tournament where 2 matches are draw and player B has won 0 matches)\n",
        "\n",
        "Result attributes: winner_name, tournament_name"
      ],
      "metadata": {
        "id": "xOBFCY83V4IG"
      }
    },
    {
      "cell_type": "code",
      "source": [
        "res1=df_history.select(\"game_id\",\"tournament_name\",\"event\",\"winner\",\"loser\").where((df_history.winner!=\"draw\")&(df_history.loser!=\"draw\"))\n",
        "res1.registerTempTable(\"df_result1\")\n",
        "res12=spark.sql(\"SELECT game_id,tournament_name,event,winner FROM df_result1 WHERE winner not in (SELECT distinct(loser) FROM df_result1)\")\n",
        "res12.show()\n",
        "res12=res12.toPandas()\n",
        "res12.head()\n",
        "res12.to_csv('/content/drive/MyDrive/DE_SOLUTION_DHANAVEL_K/results/' +'sol12.csv')"
      ],
      "metadata": {
        "id": "t6CYhFrJV35k",
        "colab": {
          "base_uri": "https://localhost:8080/"
        },
        "outputId": "0cbbd169-c3bd-434e-c728-7438d273f8ec"
      },
      "execution_count": 85,
      "outputs": [
        {
          "output_type": "stream",
          "name": "stdout",
          "text": [
            "+--------------------+---------------+-----------+--------------------+\n",
            "|             game_id|tournament_name|      event|              winner|\n",
            "+--------------------+---------------+-----------+--------------------+\n",
            "|b528ad29-23c3-4bf...|  FideChamp2004|FIDE WCh KO|            Karlov,A|\n",
            "|cd3774bf-05ac-4fb...|  FideChamp2002|FIDE WCh KO|          Ciuksyte,D|\n",
            "|0b07b253-df45-41f...|  FideChamp2002|FIDE WCh KO|            Foisor,C|\n",
            "|85c3014a-ce6c-45b...|  FideChamp2002|FIDE WCh KO|          Kiseleva,N|\n",
            "|55dff081-1370-4d5...|  FideChamp2002|FIDE WCh KO|            Foisor,C|\n",
            "|b8b237f1-40fa-44c...|  FideChamp2002|FIDE WCh KO|          Kiseleva,N|\n",
            "|84228834-5a50-4b5...|  FideChamp2002|FIDE WCh KO|Stepovaia Dianche...|\n",
            "|05e0250a-2550-4ea...|  FideChamp2002|FIDE WCh KO|       Zielinska,Mar|\n",
            "+--------------------+---------------+-----------+--------------------+\n",
            "\n"
          ]
        }
      ]
    },
    {
      "cell_type": "markdown",
      "source": [
        "**13.Player with highest winning ratio.**\n",
        "\n",
        "Hint: Winning ratio: (Number of rounds won)/(Number of rounds played)\n",
        "\n",
        "Result attributes: player_name\n",
        "\n",
        "Final result will have only one row"
      ],
      "metadata": {
        "id": "GRa786F2WNWA"
      }
    },
    {
      "cell_type": "code",
      "source": [
        "t1=df_history.select(\"winner\").where(df_history.winner!=\"draw\")\n",
        "r1=t1.groupBy(\"winner\").count()\n",
        "t2=df_moves.select(\"player\")\n",
        "r2=t2.groupBy(\"player\").count()\n",
        "r1.registerTempTable(\"table1\")\n",
        "r2.registerTempTable(\"table2\")\n",
        "\n",
        "res13=spark.sql(\"select t1.winner as player_name from table1 t1,table2 t2 where t2.player=t1.winner and t1.count/t2.count==(select max(t1.count/t2.count) from table1 t1,table2 t2 where t2.player=t1.winner)\")\n",
        "res13.show()\n",
        "\n",
        "res13=res13.toPandas()\n",
        "res13.head()\n",
        "res13.to_csv('/content/drive/MyDrive/DE_SOLUTION_DHANAVEL_K/results/' +'sol13.csv')"
      ],
      "metadata": {
        "id": "jFgc0amvcpPB",
        "colab": {
          "base_uri": "https://localhost:8080/"
        },
        "outputId": "3828695e-eb1a-4c1e-80c4-09eee8ed5088"
      },
      "execution_count": 86,
      "outputs": [
        {
          "output_type": "stream",
          "name": "stdout",
          "text": [
            "+-----------+\n",
            "|player_name|\n",
            "+-----------+\n",
            "| Kiseleva,N|\n",
            "+-----------+\n",
            "\n"
          ]
        }
      ]
    },
    {
      "cell_type": "markdown",
      "metadata": {
        "id": "L0XyvIiL1x81"
      },
      "source": [
        "**14.Player who had given checkmate with Pawn.**\n",
        "\n",
        "\n",
        "Note: Consider all events for this query\n",
        "\n",
        "Result attributes: player_name\n",
        "\n",
        "Final result will have only one row"
      ]
    },
    {
      "cell_type": "code",
      "execution_count": 87,
      "metadata": {
        "id": "4F8PnxR-1xpM",
        "colab": {
          "base_uri": "https://localhost:8080/"
        },
        "outputId": "0dc7ad70-4c78-42ae-e31e-ae9ca3eed150"
      },
      "outputs": [
        {
          "output_type": "stream",
          "name": "stdout",
          "text": [
            "+--------------+\n",
            "|        player|\n",
            "+--------------+\n",
            "|Andersson, Ulf|\n",
            "+--------------+\n",
            "\n"
          ]
        }
      ],
      "source": [
        "res14=df_moves.select(\"player\").where((df_moves.piece==\"P\") & (df_moves.is_check_mate==1))\n",
        "res14.show()\n",
        "res14=res14.toPandas()\n",
        "res14.head()\n",
        "res14.to_csv('/content/drive/MyDrive/DE_SOLUTION_DHANAVEL_K/results/' +'sol14.csv')"
      ]
    },
    {
      "cell_type": "markdown",
      "metadata": {
        "id": "SaeHpUOb1tOb"
      },
      "source": [
        "**15.List games where player has won game without queen.**\n",
        "\n",
        "\n",
        "Result attributes: game_id, event, player_name"
      ]
    },
    {
      "cell_type": "code",
      "execution_count": 88,
      "metadata": {
        "id": "b6CKw3Xkv71C",
        "colab": {
          "base_uri": "https://localhost:8080/"
        },
        "outputId": "ed89bcd3-0d98-478c-e605-de94ed0f89ae"
      },
      "outputs": [
        {
          "output_type": "stream",
          "name": "stdout",
          "text": [
            "+--------------------+--------------+\n",
            "|             game_id|        player|\n",
            "+--------------------+--------------+\n",
            "|04c81fe4-efd8-456...|    Nakamura,H|\n",
            "|ac45a5ed-172d-4ae...|Andersson, Ulf|\n",
            "+--------------------+--------------+\n",
            "\n"
          ]
        }
      ],
      "source": [
        "res15=df_moves.select(['game_id','player']).where((df_moves.white_queen_count==0) &(df_moves.black_queen_count==0) & (df_moves.is_check_mate==1))\n",
        "res15.show()\n",
        "res15=res15.toPandas()\n",
        "res15.head()\n",
        "res15.to_csv('/content/drive/MyDrive/DE_SOLUTION_DHANAVEL_K/results/' +'sol15.csv')"
      ]
    }
  ],
  "metadata": {
    "colab": {
      "collapsed_sections": [],
      "provenance": []
    },
    "kernelspec": {
      "display_name": "Python 3",
      "name": "python3"
    },
    "language_info": {
      "name": "python"
    },
    "gpuClass": "standard"
  },
  "nbformat": 4,
  "nbformat_minor": 0
}